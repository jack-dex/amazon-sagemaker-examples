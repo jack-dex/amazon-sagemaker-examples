{
 "cells": [
  {
   "cell_type": "code",
   "execution_count": 2,
   "metadata": {},
   "outputs": [
    {
     "data": {
      "text/plain": [
       "['s3:',\n",
       " '',\n",
       " 'poc-mach-learning',\n",
       " 'autogluon_sm',\n",
       " 'data',\n",
       " 'processed_payplan_data.csv']"
      ]
     },
     "execution_count": 2,
     "metadata": {},
     "output_type": "execute_result"
    }
   ],
   "source": [
    " input_data='s3://poc-mach-learning/autogluon_sm/data/processed_payplan_data.csv'\n",
    " input_data.split(\"/\")"
   ]
  },
  {
   "cell_type": "code",
   "execution_count": 2,
   "metadata": {},
   "outputs": [
    {
     "ename": "IndentationError",
     "evalue": "unexpected indent (<ipython-input-2-a2f16fd92f7b>, line 5)",
     "output_type": "error",
     "traceback": [
      "\u001b[0;36m  File \u001b[0;32m\"<ipython-input-2-a2f16fd92f7b>\"\u001b[0;36m, line \u001b[0;32m5\u001b[0m\n\u001b[0;31m    \"\"\"\u001b[0m\n\u001b[0m    ^\u001b[0m\n\u001b[0;31mIndentationError\u001b[0m\u001b[0;31m:\u001b[0m unexpected indent\n"
     ]
    }
   ],
   "source": [
    "script_content = \"\"\"\n",
    "    \"\"\"\n",
    "    # This Lambda function deploys the model to SageMaker Endpoint. \n",
    "    # If Endpoint exists, then Endpoint will be updated with new Endpoint Config.\n",
    "    \"\"\"\n",
    "\n",
    "    import json\n",
    "    import boto3\n",
    "    import time\n",
    "\n",
    "\n",
    "    sm_client = boto3.client(\"sagemaker\")\n",
    "\n",
    "\n",
    "    def lambda_handler(event, context):\n",
    "\n",
    "        print(f\"Received Event: {event}\")\n",
    "\n",
    "        current_time = time.strftime(\"%m-%d-%H-%M-%S\", time.localtime())\n",
    "        endpoint_instance_type = event[\"endpoint_instance_type\"]\n",
    "        model_name = event[\"model_name\"]\n",
    "        endpoint_config_name = \"{}-{}\".format(event[\"endpoint_config_name\"], current_time)\n",
    "        endpoint_name = event[\"endpoint_name\"]\n",
    "\n",
    "        # Create Endpoint Configuration\n",
    "        create_endpoint_config_response = sm_client.create_endpoint_config(\n",
    "            EndpointConfigName=endpoint_config_name,\n",
    "            ProductionVariants=[\n",
    "                {\n",
    "                    \"InstanceType\": endpoint_instance_type,\n",
    "                    \"InitialVariantWeight\": 1,\n",
    "                    \"InitialInstanceCount\": 1,\n",
    "                    \"VariantName\": \"AllTraffic\",\n",
    "                }\n",
    "            ],\n",
    "        )\n",
    "        print(f\"create_endpoint_config_response: {create_endpoint_config_response}\")\n",
    "\n",
    "        # Check if an endpoint exists. If no - Create new endpoint, if yes - Update existing endpoint\n",
    "        list_endpoints_response = sm_client.list_endpoints(\n",
    "            SortBy=\"CreationTime\",\n",
    "            SortOrder=\"Descending\",\n",
    "            NameContains=endpoint_name,\n",
    "        )\n",
    "        print(f\"list_endpoints_response: {list_endpoints_response}\")\n",
    "\n",
    "        if len(list_endpoints_response[\"Endpoints\"]) > 0:\n",
    "            print(\"Updating Endpoint with new Endpoint Configuration\")\n",
    "            update_endpoint_response = sm_client.update_endpoint(\n",
    "                EndpointName=endpoint_name, EndpointConfigName=endpoint_config_name\n",
    "            )\n",
    "            print(f\"update_endpoint_response: {update_endpoint_response}\")\n",
    "        else:\n",
    "            print(\"Creating Endpoint\")\n",
    "            create_endpoint_response = sm_client.create_endpoint(\n",
    "                EndpointName=endpoint_name, EndpointConfigName=endpoint_config_name\n",
    "            )\n",
    "            print(f\"create_endpoint_response: {create_endpoint_response}\")\n",
    "\n",
    "        return {\"statusCode\": 200, \"body\": json.dumps(\"Endpoint Created Successfully\")}\n",
    "    \"\"\"\n",
    "\n",
    "    with open('deploy_model_lambda.py', 'w') as f:\n",
    "        f.write(script_content)\n"
   ]
  },
  {
   "cell_type": "code",
   "execution_count": 3,
   "metadata": {},
   "outputs": [
    {
     "name": "stdout",
     "output_type": "stream",
     "text": [
      "Name: tf2-california-housing-endpoint-111-111-111\n",
      "Status: InService\n",
      "Creation time: 2023-05-16 15:24:38.879000+00:00\n",
      "Last modified time: 2023-05-16 15:27:23.848000+00:00\n",
      "---\n"
     ]
    }
   ],
   "source": [
    "import boto3\n",
    "\n",
    "# Create a SageMaker client\n",
    "sagemaker = boto3.client('sagemaker')\n",
    "\n",
    "# List all endpoints\n",
    "response = sagemaker.list_endpoints(\n",
    "    SortBy='CreationTime',\n",
    "    SortOrder='Descending'\n",
    ")\n",
    "\n",
    "# Print the names and statuses of the endpoints\n",
    "for endpoint in response['Endpoints']:\n",
    "    print('Name: {}'.format(endpoint['EndpointName']))\n",
    "    print('Status: {}'.format(endpoint['EndpointStatus']))\n",
    "    print('Creation time: {}'.format(endpoint['CreationTime']))\n",
    "    print('Last modified time: {}'.format(endpoint['LastModifiedTime']))\n",
    "    print('---')\n"
   ]
  },
  {
   "cell_type": "code",
   "execution_count": 6,
   "metadata": {},
   "outputs": [
    {
     "name": "stdout",
     "output_type": "stream",
     "text": [
      "Deleting endpoint: tf2-california-housing-endpoint-111-111-111\n",
      "Endpoint tf2-california-housing-endpoint-111-111-111 deleted.\n"
     ]
    }
   ],
   "source": [
    "import boto3\n",
    "\n",
    "# Create a SageMaker client\n",
    "sagemaker = boto3.client('sagemaker')\n",
    "\n",
    "# List all endpoints\n",
    "response = sagemaker.list_endpoints(\n",
    "    SortBy='CreationTime',\n",
    "    SortOrder='Descending'\n",
    ")\n",
    "\n",
    "# Delete all endpoints\n",
    "for endpoint in response['Endpoints']:\n",
    "    print('Deleting endpoint: {}'.format(endpoint['EndpointName']))\n",
    "    sagemaker.delete_endpoint(\n",
    "        EndpointName=endpoint['EndpointName']\n",
    "    )\n",
    "    print(f\"Endpoint {endpoint['EndpointName']} deleted.\")\n"
   ]
  },
  {
   "cell_type": "code",
   "execution_count": null,
   "metadata": {},
   "outputs": [],
   "source": []
  }
 ],
 "metadata": {
  "instance_type": "ml.t3.medium",
  "kernelspec": {
   "display_name": "Python 3 (Data Science)",
   "language": "python",
   "name": "python3__SAGEMAKER_INTERNAL__arn:aws:sagemaker:eu-west-2:712779665605:image/datascience-1.0"
  },
  "language_info": {
   "codemirror_mode": {
    "name": "ipython",
    "version": 3
   },
   "file_extension": ".py",
   "mimetype": "text/x-python",
   "name": "python",
   "nbconvert_exporter": "python",
   "pygments_lexer": "ipython3",
   "version": "3.7.10"
  }
 },
 "nbformat": 4,
 "nbformat_minor": 4
}
